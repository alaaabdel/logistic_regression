{
  "nbformat": 4,
  "nbformat_minor": 0,
  "metadata": {
    "colab": {
      "name": "Project1",
      "provenance": []
    },
    "kernelspec": {
      "name": "python3",
      "display_name": "Python 3"
    }
  },
  "cells": [
    {
      "cell_type": "code",
      "metadata": {
        "id": "9NWgoe95Mmhv",
        "outputId": "b3635f12-c278-488d-a1dd-d78dd7e5b9e2",
        "colab": {
          "resources": {
            "http://localhost:8080/nbextensions/google.colab/files.js": {
              "data": "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",
              "ok": true,
              "headers": [
                [
                  "content-type",
                  "application/javascript"
                ]
              ],
              "status": 200,
              "status_text": ""
            }
          },
          "base_uri": "https://localhost:8080/",
          "height": 106
        }
      },
      "source": [
        "# Importing the libraries\n",
        "import io\n",
        "import sklearn # This is only used for feature selection\n",
        "import numpy as np\n",
        "import pandas as pd\n",
        "import random\n",
        "import math\n",
        "import matplotlib.pyplot as plt\n",
        "import pickle\n",
        "import timeit\n",
        "\n",
        "#this is to import data files into colab AA\n",
        "from google.colab import files\n",
        "uploaded = files.upload()\n",
        "data_bank = pd.read_csv(io.BytesIO(uploaded['bankrupcy.csv']))\n",
        "data_hep =pd.read_csv(io.BytesIO(uploaded['hepatitis.csv']))"
      ],
      "execution_count": null,
      "outputs": [
        {
          "output_type": "display_data",
          "data": {
            "text/html": [
              "\n",
              "     <input type=\"file\" id=\"files-f0ff2572-ed30-4230-bb4c-5c985d6ae926\" name=\"files[]\" multiple disabled\n",
              "        style=\"border:none\" />\n",
              "     <output id=\"result-f0ff2572-ed30-4230-bb4c-5c985d6ae926\">\n",
              "      Upload widget is only available when the cell has been executed in the\n",
              "      current browser session. Please rerun this cell to enable.\n",
              "      </output>\n",
              "      <script src=\"/nbextensions/google.colab/files.js\"></script> "
            ],
            "text/plain": [
              "<IPython.core.display.HTML object>"
            ]
          },
          "metadata": {
            "tags": []
          }
        },
        {
          "output_type": "stream",
          "text": [
            "Saving bankrupcy.csv to bankrupcy (3).csv\n",
            "Saving hepatitis.csv to hepatitis (3).csv\n"
          ],
          "name": "stdout"
        }
      ]
    },
    {
      "cell_type": "code",
      "metadata": {
        "id": "bDV7CXc_MsHi",
        "outputId": "2dd8278f-889c-434c-882f-a16316e7f484",
        "colab": {
          "base_uri": "https://localhost:8080/",
          "height": 517
        }
      },
      "source": [
        "# This function randomly distributes the rows of training data\n",
        "def data_rnd_distribute(x, y, rnd_rows):\n",
        "    # # creat a random order for rows\n",
        "    # rnd_rows = random.sample(range(x.shape[0]), x.shape[0])\n",
        "    # Initialize new X and y matrices\n",
        "    x_new = np.empty((0, x.shape[1]), float)\n",
        "    y_new = np.empty((0, 1), float)\n",
        "    # put each row in sequel\n",
        "    for j in range(len(rnd_rows)):\n",
        "        row_ = x[rnd_rows[j], :]  # jth random row\n",
        "        class_ = y[rnd_rows[j]]  # jth random class\n",
        "        row_ = np.c_[row_]  # transform into numpy array\n",
        "        class_ = np.c_[class_]  # transform into numpy array\n",
        "        # Add the new row and class\n",
        "        x_new = np.append(x_new, row_.T, axis=0)\n",
        "        y_new = np.append(y_new, class_, axis=0)\n",
        "    return x_new, y_new\n",
        "\n",
        "\n",
        "def normalize_data(in_data):\n",
        "    x = in_data[:, 0:-1]  # first remove the dummy features\n",
        "    features_mean = []\n",
        "    features_std_deviation = []\n",
        "    for i in range(x.shape[1]):\n",
        "        feature_i_mean = x[:, i].mean()  # calculate mean of each attribute set\n",
        "        feature_i_std_deviation = np.std(x[:, i])  # calculate standard deviation of each attribute set\n",
        "        # feature_i_std_deviation = x[:, i].max() - x[:, i].min()\n",
        "        features_mean.append(feature_i_mean)\n",
        "        features_std_deviation.append(feature_i_std_deviation)\n",
        "\n",
        "    # converting list to numpy array\n",
        "    features_mean = np.asarray(features_mean)\n",
        "    features_std_deviation = np.asarray(features_std_deviation)\n",
        "\n",
        "    x_norm_ = (x - features_mean) / features_std_deviation\n",
        "    x_norm = np.c_[x_norm_, np.ones((x_norm_.shape[0], 1))]  # Adding the dummy features back to the data set\n",
        "    return x_norm\n",
        "\n",
        "\n",
        "def set_order(in_data, order):\n",
        "    data = in_data[:, 0:-1]  # first remove the dummy features\n",
        "    if order <= 1:\n",
        "        data_new = data\n",
        "    else:\n",
        "        data_new = data\n",
        "        i = 2\n",
        "        while i <= order:\n",
        "            data_new = np.hstack((data ** i, data_new))\n",
        "            i = i + 1\n",
        "    data_new = np.c_[data_new, np.ones((data_new.shape[0], 1))]  # Adding the dummy features back to the data set\n",
        "    return data_new\n",
        "\n",
        "\n",
        "# Import data\n",
        "def get_data(data_path):\n",
        "    data = pd.read_csv(data_path)\n",
        "    return data\n",
        "\n",
        "\n",
        "def sigmoid(variable):\n",
        "    # The Sigmoid function\n",
        "    return 1 / (1 + np.exp(-variable))\n",
        "\n",
        "\n",
        "def gradient_vector(x, y, w, rig_reg, l2_pen):\n",
        "    # Computes the gradient of the cost function at the point theta\n",
        "    z = np.dot(x, w)\n",
        "    if rig_reg:\n",
        "        dw = 2 * np.dot(x.T, sigmoid(z) - y) + 2 * l2_pen * w\n",
        "    else:\n",
        "        dw = np.dot(x.T, sigmoid(z) - y)\n",
        "    return dw\n",
        "\n",
        "\n",
        "class LogisticReg:\n",
        "    def __init__(self, adaptive_iteration, epsilon, beta, alpha, num_it, k, x, y, rig_reg, l2_pen):\n",
        "        self.alpha = alpha\n",
        "        self.epsilon = epsilon\n",
        "        self.beta = beta\n",
        "        self.x = x\n",
        "        self.y = y\n",
        "        self.w = np.zeros((self.x.shape[1], 1))  # Initializing vector of weights\n",
        "        self.it_list = []\n",
        "        self.err_list = []\n",
        "        self.k = k\n",
        "        self.num_it = num_it\n",
        "        self.adaptive_iteration = adaptive_iteration\n",
        "        self.rig_reg = rig_reg\n",
        "        self.l2_pen = l2_pen\n",
        "\n",
        "    def fit(self):\n",
        "        it_list = []\n",
        "        err_list = []\n",
        "        it = 1  # initializing the iterations\n",
        "\n",
        "        if self.adaptive_iteration:\n",
        "            # Initializing err\n",
        "            err = self.epsilon + 0.5\n",
        "            while err >= self.epsilon:\n",
        "                self.alpha = 1 / (1 + self.beta * it) \n",
        "                delta = gradient_vector(self.x, self.y, self.w, self.rig_reg, self.l2_pen)\n",
        "                w_old = self.w  # store w for comparison\n",
        "                self.w = self.w - self.alpha * delta\n",
        "                err = np.linalg.norm(self.w - w_old)  # Calculate the norm-2 of the difference\n",
        "                it_list.append(it)\n",
        "                err_list.append(err)\n",
        "                it += 1\n",
        "\n",
        "        else:\n",
        "            for i in range(self.num_it):\n",
        "                delta = gradient_vector(self.x, self.y, self.w, self.rig_reg, self.l2_pen)\n",
        "                w_old = self.w  # store w for comparison\n",
        "                self.w = self.w - self.alpha * delta\n",
        "                err = np.linalg.norm(self.w - w_old)  # Calculate the norm-2 of the difference\n",
        "                it_list.append(it)\n",
        "                err_list.append(err)\n",
        "                it += 1\n",
        "        self.it_list = it_list\n",
        "        self.err_list = err_list\n",
        "        return self.w, self.it_list, self.err_list\n",
        "\n",
        "    def predict(self, x):\n",
        "        z = np.dot(x, self.w)\n",
        "        return sigmoid(z)\n",
        "\n",
        "\n",
        "def cross_validate(adaptive_iteration, rig_reg, l2_pen, epsilon, beta, alpha, num_it, k, x, y):\n",
        "    total_err = []\n",
        "    total_acc = []\n",
        "    data = np.c_[x, y]\n",
        "    fold_size = math.ceil(data.shape[0] / k)  # round up the fold size\n",
        "    training_set_size = (k - 1) * fold_size\n",
        "    validation_set_size = data.shape[0] - training_set_size\n",
        "    for i in range(k):\n",
        "        data_validation = data[fold_size * i: fold_size * i + validation_set_size, :]\n",
        "        if i == 0:\n",
        "            data_training_upper = np.empty((0, data.shape[1]), float)\n",
        "        else:\n",
        "            data_training_upper = data[0: fold_size * i, :]\n",
        "        if i == k - 1:\n",
        "            data_training_lower = np.empty((0, data.shape[1]), float)\n",
        "        else:\n",
        "            data_training_lower = data[fold_size * i + validation_set_size: data.shape[0], :]\n",
        "\n",
        "        # In following  you can check if assembly of the matrices we obtained are actually same as original data *******\n",
        "        # data_assem = np.concatenate((data_training_upper, data_validation, data_training_lower), axis=0)\n",
        "        # x_assem = data_assem[:, 0: self.X.shape[1]]  # separate the features and classes again\n",
        "        # print('x assem and its shape are:', x_assem, 'and', x_assem.shape)\n",
        "        # y_assem = data_assem[:, -1]\n",
        "        # y_assem = np.c_[y_assem]\n",
        "        # print('y assem and its shape are:', y_assem, 'and', y_assem.shape)\n",
        "        # print('x dif is', x_assem - self.X)  # should be zero matrix\n",
        "        # print('y dif is', y_assem - self.y)  # should be zero vector\n",
        "        # **************************************************************************************************************\n",
        "\n",
        "        data_training = np.concatenate((data_training_upper, data_training_lower), axis=0)\n",
        "        x_training = data_training[:, 0: x.shape[1]]  # separate the features and classes\n",
        "        y_training = data_training[:, -1]\n",
        "        y_training = np.c_[y_training]  # make y_training a (n,1) vector instead of (n,)\n",
        "\n",
        "        x_validation = data_validation[:, 0: x.shape[1]]  # separate the features and classes\n",
        "        y_validation = data_validation[:, -1]\n",
        "        y_validation = np.c_[y_validation]  # make y_training a (n,1) vector instead of (n,)\n",
        "\n",
        "        model = LogisticReg(adaptive_iteration, epsilon, beta, alpha, num_it, k, x_training, y_training, rig_reg, l2_pen)\n",
        "        w_, it_list, err_list = model.fit()\n",
        "        y_guessed = model.predict(x_validation)\n",
        "\n",
        "        for j in range(len(y_guessed)):\n",
        "            if y_guessed[j] < 0.5:\n",
        "                y_guessed[j] = 0\n",
        "            else:\n",
        "                y_guessed[j] = 1\n",
        "\n",
        "        # fold_err = np.linalg.norm(y_guessed - y_validation)  # Calculate the norm-2 of the difference\n",
        "        fold_err = (y_guessed != y_validation).mean() * 100  # Calculate the norm-2 of the difference\n",
        "        fold_acc = (y_guessed == y_validation).mean() * 100\n",
        "        print('The', i + 1, 'th fold error and accuracy are', fold_err, 'and', fold_acc, 'respectively')\n",
        "        total_err.append(fold_err)\n",
        "        total_acc.append(fold_acc)\n",
        "\n",
        "        if i == 0 & Plotting:\n",
        "            plt.xlabel('Number of iterations')\n",
        "            plt.ylabel('Error on test set')\n",
        "            plt.plot(it_list, err_list)\n",
        "            plt.show(block=False)\n",
        "\n",
        "    mean_err = sum(total_err) / len(total_err)\n",
        "    mean_acc = sum(total_acc) / len(total_acc)\n",
        "    print('The total error and accuracy of this model are', mean_err, 'and', mean_acc, 'respectively')\n",
        "    return len(it_list)\n",
        "\n",
        "\n",
        "# ///////////////////////////////////////////////////////////////////////////////////////\n",
        "# ///////////////////////////////////// START HERE //////////////////////////////////////\n",
        "# ///////////////////////////////////////////////////////////////////////////////////////\n",
        "\n",
        "# ============================================================== Select Data\n",
        "data_raw = data_hep\n",
        "\n",
        "# ================================================================\n",
        "\n",
        "# X = feature values, all the columns except the last column\n",
        "X_raw = data_raw.iloc[:, 0:-1]\n",
        "# y = target values, last column of the data set\n",
        "y_raw = data_raw.iloc[:, -1]\n",
        "# making sure all the data is float\n",
        "y_raw = y_raw.astype(float)\n",
        "# Adding the dummy features to the data set\n",
        "X_raw = np.c_[X_raw, np.ones((X_raw.shape[0], 1))]\n",
        "# Converting y to a numpy array\n",
        "y_raw = np.c_[y_raw]\n",
        "print('Dimension of X is', X_raw.shape, '; subsequently the dimension of y is', y_raw.shape)\n",
        "rnd_rows = random.sample(range(X_raw.shape[0]), X_raw.shape[0])\n",
        "# ================================================================ Set Variabes\n",
        "k = 10\n",
        "order = 1\n",
        "normalization = True\n",
        "adaptive_iteration = False\n",
        "Ridge_reg = True\n",
        "Plotting = True\n",
        "# ------------------------ Adaptive iteration method\n",
        "beta = 1e0\n",
        "epsilon = 0.0001\n",
        "# ------------------------ fixed number of iteration method\n",
        "alpha = 0.0001\n",
        "num_it = 8000\n",
        "# ------------------------ Ridge Regression L2-Penalty\n",
        "l2_pen = 0.5\n",
        "\n",
        "# ==============================================================\n",
        "\n",
        "if normalization:\n",
        "    X_raw = normalize_data(X_raw)\n",
        "X_raw = set_order(X_raw, order)\n",
        "X_, y_ = data_rnd_distribute(X_raw, y_raw, rnd_rows)\n",
        "\n",
        "start = timeit.default_timer()  # start to calculate run time\n",
        "num_iter = cross_validate(adaptive_iteration, Ridge_reg, l2_pen, epsilon, beta, alpha, num_it, k, X_, y_)\n",
        "\n",
        "# -------------------------------------------------------- End\n",
        "stop = timeit.default_timer()\n",
        "print('Time: ', stop - start)\n",
        "print('# of Iterations:', num_iter)"
      ],
      "execution_count": null,
      "outputs": [
        {
          "output_type": "stream",
          "text": [
            "Dimension of X is (142, 20) ; subsequently the dimension of y is (142, 1)\n",
            "The 1 th fold error and accuracy are 14.285714285714285 and 85.71428571428571 respectively\n"
          ],
          "name": "stdout"
        },
        {
          "output_type": "display_data",
          "data": {
            "image/png": "[encoded data removed]",
            "text/plain": [
              "<Figure size 432x288 with 1 Axes>"
            ]
          },
          "metadata": {
            "tags": [],
            "needs_background": "light"
          }
        },
        {
          "output_type": "stream",
          "text": [
            "The 2 th fold error and accuracy are 0.0 and 100.0 respectively\n",
            "The 3 th fold error and accuracy are 14.285714285714285 and 85.71428571428571 respectively\n",
            "The 4 th fold error and accuracy are 0.0 and 100.0 respectively\n",
            "The 5 th fold error and accuracy are 0.0 and 100.0 respectively\n",
            "The 6 th fold error and accuracy are 14.285714285714285 and 85.71428571428571 respectively\n",
            "The 7 th fold error and accuracy are 0.0 and 100.0 respectively\n",
            "The 8 th fold error and accuracy are 42.857142857142854 and 57.14285714285714 respectively\n",
            "The 9 th fold error and accuracy are 28.57142857142857 and 71.42857142857143 respectively\n",
            "The 10 th fold error and accuracy are 0.0 and 100.0 respectively\n",
            "The total error and accuracy of this model are 11.428571428571427 and 88.57142857142857 respectively\n",
            "Time:  2.9414938509980857\n",
            "# of Iterations: 8000\n"
          ],
          "name": "stdout"
        }
      ]
    },
    {
      "cell_type": "code",
      "metadata": {
        "id": "p5XTHqDH9WKW",
        "outputId": "55bb6e2f-de02-41a5-f436-6c2cd96bfed8",
        "colab": {
          "base_uri": "https://localhost:8080/",
          "height": 1000
        }
      },
      "source": [
        "from sklearn.ensemble import RandomForestClassifier\n",
        "from sklearn.feature_selection import SelectFromModel\n",
        "#shows the importance value of each feature in the dataset, yvalue is corr and xaxis is the indix number \n",
        "\n",
        "\n",
        "x=data_bank.iloc[:,:-1]\n",
        "x2=data_hep.iloc[:,:-1]\n",
        "\n",
        "yy=data_bank.iloc[:,64:65]\n",
        "yy2=data_hep.iloc[:,19:20]\n",
        "\n",
        "def feat_sel (x,y):\n",
        "  sel = SelectFromModel(RandomForestClassifier(n_estimators = 100))\n",
        "  sel.fit(x, y)\n",
        "  sel.get_support()\n",
        "\n",
        "  selected_feat= x.columns[(sel.get_support())]\n",
        "  len(selected_feat)\n",
        "\n",
        "  print(selected_feat)\n",
        "\n",
        "  importances = sel.estimator_.feature_importances_\n",
        "  indices = np.argsort(importances)[::-1]\n",
        "  # X is the train data used to fit the model \n",
        "  plt.figure(figsize=(20,10))\n",
        "  plt.title(\"Feature importances\")\n",
        "  plt.xlabel(\"feature label\")\n",
        "  plt.ylabel(\"importance score \")\n",
        "  plt.bar(range(x.shape[1]), importances[indices],color=\"r\", align=\"center\")\n",
        "  plt.xticks(range(x.shape[1]), indices)\n",
        "  plt.xlim([-1, x.shape[1]])\n",
        "  plt.show()\n",
        "\n",
        "feat_sel(x,yy)\n",
        "xx1 = data_bank[['attribute2', 'attribute5', 'attribute6', 'attribute8', 'attribute9','attribute10', 'attribute12', 'attribute13', 'attribute16','attribute17','attribute25', 'attribute26', 'attribute27','attribute29', 'attribute34', 'attribute35', 'attribute39','attribute46','ClassLabel']]\n",
        "#this is the bankrupcy data after feature extraction\n",
        "\n",
        "#hep data feature extraction \n",
        "feat_sel(x2,yy2)\n",
        "xx2 = data_hep[['age', 'spiders', 'ascites', 'bilirubin', 'alk_phosphate', 'sgot','albumin', 'protime','ClassLabel']]"
      ],
      "execution_count": null,
      "outputs": [
        {
          "output_type": "stream",
          "text": [
            "/usr/local/lib/python3.6/dist-packages/sklearn/feature_selection/_from_model.py:222: DataConversionWarning: A column-vector y was passed when a 1d array was expected. Please change the shape of y to (n_samples,), for example using ravel().\n",
            "  self.estimator_.fit(X, y, **fit_params)\n"
          ],
          "name": "stderr"
        },
        {
          "output_type": "stream",
          "text": [
            "Index(['attribute2', 'attribute5', 'attribute6', 'attribute8', 'attribute9',\n",
            "       'attribute10', 'attribute13', 'attribute16', 'attribute17',\n",
            "       'attribute25', 'attribute26', 'attribute29', 'attribute34',\n",
            "       'attribute35', 'attribute39', 'attribute46', 'attribute55'],\n",
            "      dtype='object')\n"
          ],
          "name": "stdout"
        },
        {
          "output_type": "display_data",
          "data": {
            "image/png": "[encoded data removed]",
            "text/plain": [
              "<Figure size 1440x720 with 1 Axes>"
            ]
          },
          "metadata": {
            "tags": [],
            "needs_background": "light"
          }
        },
        {
          "output_type": "stream",
          "text": [
            "/usr/local/lib/python3.6/dist-packages/sklearn/feature_selection/_from_model.py:222: DataConversionWarning: A column-vector y was passed when a 1d array was expected. Please change the shape of y to (n_samples,), for example using ravel().\n",
            "  self.estimator_.fit(X, y, **fit_params)\n"
          ],
          "name": "stderr"
        },
        {
          "output_type": "stream",
          "text": [
            "Index(['age', 'spiders', 'ascites', 'bilirubin', 'alk_phosphate', 'sgot',\n",
            "       'albumin', 'protime'],\n",
            "      dtype='object')\n"
          ],
          "name": "stdout"
        },
        {
          "output_type": "display_data",
          "data": {
            "image/png": "[encoded data removed]",
            "text/plain": [
              "<Figure size 1440x720 with 1 Axes>"
            ]
          },
          "metadata": {
            "tags": [],
            "needs_background": "light"
          }
        }
      ]
    },
    {
      "cell_type": "code",
      "metadata": {
        "id": "sieIvmTlADoM",
        "outputId": "411c5b36-bcb7-41f3-e027-1a93aba51991",
        "colab": {
          "base_uri": "https://localhost:8080/",
          "height": 517
        }
      },
      "source": [
        "#evaluate model on bankrupcy data after feature selection \n",
        "data_raw = data_hep\n",
        "rnd_rows = rnd_rows_hep\n",
        "# ================================================================\n",
        "def final_model(data,rnd):\n",
        "  # X = feature values, all the columns except the last column\n",
        "  X_raw = data.iloc[:, 0:-1]\n",
        "  # y = target values, last column of the data set\n",
        "  y_raw = data.iloc[:, -1]\n",
        "  # making sure all the data is float\n",
        "  y_raw = y_raw.astype(float)\n",
        "  # Adding the dummy features to the data set\n",
        "  X_raw = np.c_[X_raw, np.ones((X_raw.shape[0], 1))]\n",
        "  # Converting y to a numpy array\n",
        "  y_raw = np.c_[y_raw]\n",
        "  print('Dimension of X is', X_raw.shape, '; subsequently the dimension of y is', y_raw.shape)\n",
        "  # ================================================================ Set Variabes\n",
        "  k = 10\n",
        "  order = 1\n",
        "  normalization = True\n",
        "  adaptive_iteration = False\n",
        "  Ridge_reg = True\n",
        "  Plotting = True\n",
        "  # ------------------------ Adaptive iteration method\n",
        "  beta = 1e0\n",
        "  epsilon = 0.0001\n",
        "  # ------------------------ fixed number of iteration method\n",
        "  alpha = 0.0001\n",
        "  num_it = 8000\n",
        "  # ------------------------ Ridge Regression L2-Penalty\n",
        "  l2_pen = 0.5\n",
        "\n",
        "  # ==============================================================\n",
        "\n",
        "  if normalization:\n",
        "      X_raw = normalize_data(X_raw)\n",
        "  X_raw = set_order(X_raw, order)\n",
        "  X_, y_ = data_rnd_distribute(X_raw, y_raw, rnd)\n",
        "  start = timeit.default_timer()  # start to calculate run time\n",
        "  num_iter = cross_validate(adaptive_iteration, Ridge_reg, l2_pen, epsilon, beta, alpha, num_it, k, X_, y_)\n",
        "\n",
        "  # -------------------------------------------------------- End\n",
        "  stop = timeit.default_timer()\n",
        "  print('Time: ', stop - start)\n",
        "  print('# of Iterations:', num_iter)\n",
        "\n",
        "final_model(data_raw,rnd_rows)"
      ],
      "execution_count": null,
      "outputs": [
        {
          "output_type": "stream",
          "text": [
            "Dimension of X is (142, 20) ; subsequently the dimension of y is (142, 1)\n",
            "The 1 th fold error and accuracy are 14.285714285714285 and 85.71428571428571 respectively\n"
          ],
          "name": "stdout"
        },
        {
          "output_type": "display_data",
          "data": {
            "image/png": "[encoded data removed]",
            "text/plain": [
              "<Figure size 432x288 with 1 Axes>"
            ]
          },
          "metadata": {
            "tags": [],
            "needs_background": "light"
          }
        },
        {
          "output_type": "stream",
          "text": [
            "The 2 th fold error and accuracy are 14.285714285714285 and 85.71428571428571 respectively\n",
            "The 3 th fold error and accuracy are 14.285714285714285 and 85.71428571428571 respectively\n",
            "The 4 th fold error and accuracy are 28.57142857142857 and 71.42857142857143 respectively\n",
            "The 5 th fold error and accuracy are 0.0 and 100.0 respectively\n",
            "The 6 th fold error and accuracy are 42.857142857142854 and 57.14285714285714 respectively\n",
            "The 7 th fold error and accuracy are 28.57142857142857 and 71.42857142857143 respectively\n",
            "The 8 th fold error and accuracy are 14.285714285714285 and 85.71428571428571 respectively\n",
            "The 9 th fold error and accuracy are 0.0 and 100.0 respectively\n",
            "The 10 th fold error and accuracy are 0.0 and 100.0 respectively\n",
            "The total error and accuracy of this model are 15.714285714285712 and 84.28571428571428 respectively\n",
            "Time:  2.7718953599978704\n",
            "# of Iterations: 8000\n"
          ],
          "name": "stdout"
        }
      ]
    },
    {
      "cell_type": "code",
      "metadata": {
        "id": "Z_yGmDA_eRwU",
        "outputId": "ce4b6c7b-d5c4-49ee-812f-ee8fdcb38076",
        "colab": {
          "base_uri": "https://localhost:8080/",
          "height": 517
        }
      },
      "source": [
        "#hep after feature selection \n",
        "data_raw=xx2\n",
        "rnd_rows=rnd_rows_hep\n",
        "final_model(data_raw,rnd_rows)"
      ],
      "execution_count": null,
      "outputs": [
        {
          "output_type": "stream",
          "text": [
            "Dimension of X is (142, 9) ; subsequently the dimension of y is (142, 1)\n",
            "The 1 th fold error and accuracy are 28.57142857142857 and 71.42857142857143 respectively\n"
          ],
          "name": "stdout"
        },
        {
          "output_type": "display_data",
          "data": {
            "image/png": "[encoded data removed]",
            "text/plain": [
              "<Figure size 432x288 with 1 Axes>"
            ]
          },
          "metadata": {
            "tags": [],
            "needs_background": "light"
          }
        },
        {
          "output_type": "stream",
          "text": [
            "The 2 th fold error and accuracy are 14.285714285714285 and 85.71428571428571 respectively\n",
            "The 3 th fold error and accuracy are 28.57142857142857 and 71.42857142857143 respectively\n",
            "The 4 th fold error and accuracy are 28.57142857142857 and 71.42857142857143 respectively\n",
            "The 5 th fold error and accuracy are 0.0 and 100.0 respectively\n",
            "The 6 th fold error and accuracy are 42.857142857142854 and 57.14285714285714 respectively\n",
            "The 7 th fold error and accuracy are 14.285714285714285 and 85.71428571428571 respectively\n",
            "The 8 th fold error and accuracy are 14.285714285714285 and 85.71428571428571 respectively\n",
            "The 9 th fold error and accuracy are 14.285714285714285 and 85.71428571428571 respectively\n",
            "The 10 th fold error and accuracy are 0.0 and 100.0 respectively\n",
            "The total error and accuracy of this model are 18.571428571428566 and 81.42857142857142 respectively\n",
            "Time:  2.670919642001536\n",
            "# of Iterations: 8000\n"
          ],
          "name": "stdout"
        }
      ]
    },
    {
      "cell_type": "code",
      "metadata": {
        "id": "Z8MIwR1JlKHS",
        "outputId": "93882d12-1132-4b8d-d066-cf952aca63cb",
        "colab": {
          "base_uri": "https://localhost:8080/",
          "height": 119
        }
      },
      "source": [
        "#check for unbalanced data \n",
        "\n",
        "print(data_hep.ClassLabel.value_counts())\n",
        "print(data_bank.ClassLabel.value_counts())"
      ],
      "execution_count": null,
      "outputs": [
        {
          "output_type": "stream",
          "text": [
            "1    116\n",
            "0     26\n",
            "Name: ClassLabel, dtype: int64\n",
            "0    250\n",
            "1    203\n",
            "Name: ClassLabel, dtype: int64\n"
          ],
          "name": "stdout"
        }
      ]
    },
    {
      "cell_type": "code",
      "metadata": {
        "id": "ddvssEerlWZN",
        "outputId": "992e9653-7cd1-4b9f-c25c-e5ed50f6ac8a",
        "colab": {
          "base_uri": "https://localhost:8080/",
          "height": 572
        }
      },
      "source": [
        "#oversample minority class in hepatitis data \n",
        "from sklearn.utils import resample\n",
        "df_majority = data_hep[data_hep.ClassLabel==1]\n",
        "df_minority = data_hep[data_hep.ClassLabel==0]\n",
        " \n",
        "# Upsample minority class\n",
        "df_minority_upsampled = resample(df_minority, \n",
        "                                 replace=True,     # sample with replacement\n",
        "                                 n_samples=116,    # to match majority class\n",
        "                                 random_state=123) # reproducible results\n",
        " \n",
        "# Combine majority class with upsampled minority class\n",
        "df_upsampled = pd.concat([df_majority, df_minority_upsampled])\n",
        " \n",
        "# Display new class counts\n",
        "print(df_upsampled.ClassLabel.value_counts())\n",
        "\n",
        "#hep after balanced data  \n",
        "data_raw=df_upsampled\n",
        "rnd_rows=rnd_rows_hep\n",
        "final_model(data_raw,rnd_rows)"
      ],
      "execution_count": null,
      "outputs": [
        {
          "output_type": "stream",
          "text": [
            "1    116\n",
            "0    116\n",
            "Name: ClassLabel, dtype: int64\n",
            "Dimension of X is (232, 20) ; subsequently the dimension of y is (232, 1)\n",
            "The 1 th fold error and accuracy are 0.0 and 100.0 respectively\n"
          ],
          "name": "stdout"
        },
        {
          "output_type": "display_data",
          "data": {
            "image/png": "[encoded data removed]",
            "text/plain": [
              "<Figure size 432x288 with 1 Axes>"
            ]
          },
          "metadata": {
            "tags": [],
            "needs_background": "light"
          }
        },
        {
          "output_type": "stream",
          "text": [
            "The 2 th fold error and accuracy are 14.285714285714285 and 85.71428571428571 respectively\n",
            "The 3 th fold error and accuracy are 0.0 and 100.0 respectively\n",
            "The 4 th fold error and accuracy are 0.0 and 100.0 respectively\n",
            "The 5 th fold error and accuracy are 42.857142857142854 and 57.14285714285714 respectively\n",
            "The 6 th fold error and accuracy are 14.285714285714285 and 85.71428571428571 respectively\n",
            "The 7 th fold error and accuracy are 28.57142857142857 and 71.42857142857143 respectively\n",
            "The 8 th fold error and accuracy are 0.0 and 100.0 respectively\n",
            "The 9 th fold error and accuracy are 14.285714285714285 and 85.71428571428571 respectively\n",
            "The 10 th fold error and accuracy are 14.285714285714285 and 85.71428571428571 respectively\n",
            "The total error and accuracy of this model are 12.857142857142856 and 87.14285714285714 respectively\n",
            "Time:  2.8427310300030513\n",
            "# of Iterations: 8000\n"
          ],
          "name": "stdout"
        }
      ]
    },
    {
      "cell_type": "code",
      "metadata": {
        "id": "EIClm9Wejp4H",
        "outputId": "76a864e5-515d-49fd-f062-a3ba248c3c97",
        "colab": {
          "base_uri": "https://localhost:8080/",
          "height": 1000
        }
      },
      "source": [
        "#bank data   \n",
        "data_raw=data_bank\n",
        "rnd_rows=rnd_rows_bank\n",
        "final_model(data_raw,rnd_rows)\n",
        "\n",
        "#bank data after selection   \n",
        "data_raw=xx1\n",
        "rnd_rows=rnd_rows_bank\n",
        "final_model(data_raw,rnd_rows)"
      ],
      "execution_count": null,
      "outputs": [
        {
          "output_type": "stream",
          "text": [
            "Dimension of X is (453, 65) ; subsequently the dimension of y is (453, 1)\n",
            "The 1 th fold error and accuracy are 20.51282051282051 and 79.48717948717949 respectively\n"
          ],
          "name": "stdout"
        },
        {
          "output_type": "display_data",
          "data": {
            "image/png": "[encoded data removed]",
            "text/plain": [
              "<Figure size 432x288 with 1 Axes>"
            ]
          },
          "metadata": {
            "tags": [],
            "needs_background": "light"
          }
        },
        {
          "output_type": "stream",
          "text": [
            "The 2 th fold error and accuracy are 20.51282051282051 and 79.48717948717949 respectively\n",
            "The 3 th fold error and accuracy are 23.076923076923077 and 76.92307692307693 respectively\n",
            "The 4 th fold error and accuracy are 17.94871794871795 and 82.05128205128204 respectively\n",
            "The 5 th fold error and accuracy are 17.94871794871795 and 82.05128205128204 respectively\n",
            "The 6 th fold error and accuracy are 23.076923076923077 and 76.92307692307693 respectively\n",
            "The 7 th fold error and accuracy are 30.76923076923077 and 69.23076923076923 respectively\n",
            "The 8 th fold error and accuracy are 23.076923076923077 and 76.92307692307693 respectively\n",
            "The 9 th fold error and accuracy are 12.82051282051282 and 87.17948717948718 respectively\n",
            "The 10 th fold error and accuracy are 15.384615384615385 and 84.61538461538461 respectively\n",
            "The total error and accuracy of this model are 20.51282051282051 and 79.48717948717949 respectively\n",
            "Time:  10.113477022001462\n",
            "# of Iterations: 8000\n",
            "Dimension of X is (453, 19) ; subsequently the dimension of y is (453, 1)\n",
            "The 1 th fold error and accuracy are 20.51282051282051 and 79.48717948717949 respectively\n"
          ],
          "name": "stdout"
        },
        {
          "output_type": "display_data",
          "data": {
            "image/png": "[encoded data removed]",
            "text/plain": [
              "<Figure size 432x288 with 1 Axes>"
            ]
          },
          "metadata": {
            "tags": [],
            "needs_background": "light"
          }
        },
        {
          "output_type": "stream",
          "text": [
            "The 2 th fold error and accuracy are 25.64102564102564 and 74.35897435897436 respectively\n",
            "The 3 th fold error and accuracy are 28.205128205128204 and 71.7948717948718 respectively\n",
            "The 4 th fold error and accuracy are 20.51282051282051 and 79.48717948717949 respectively\n",
            "The 5 th fold error and accuracy are 17.94871794871795 and 82.05128205128204 respectively\n",
            "The 6 th fold error and accuracy are 28.205128205128204 and 71.7948717948718 respectively\n",
            "The 7 th fold error and accuracy are 33.33333333333333 and 66.66666666666666 respectively\n",
            "The 8 th fold error and accuracy are 28.205128205128204 and 71.7948717948718 respectively\n",
            "The 9 th fold error and accuracy are 15.384615384615385 and 84.61538461538461 respectively\n",
            "The 10 th fold error and accuracy are 20.51282051282051 and 79.48717948717949 respectively\n",
            "The total error and accuracy of this model are 23.846153846153847 and 76.15384615384616 respectively\n",
            "Time:  4.310115186002804\n",
            "# of Iterations: 8000\n"
          ],
          "name": "stdout"
        }
      ]
    },
    {
      "cell_type": "code",
      "metadata": {
        "id": "awLW4WeNEWC8"
      },
      "source": [
        "\n"
      ],
      "execution_count": null,
      "outputs": []
    },
    {
      "cell_type": "code",
      "metadata": {
        "id": "MBzDDwWGVDRA"
      },
      "source": [
        ""
      ],
      "execution_count": null,
      "outputs": []
    },
    {
      "cell_type": "code",
      "metadata": {
        "id": "9WeGPCRgjSCs",
        "outputId": "ffd64f9c-4bfe-48bb-8e6e-54d1fc0d73e3",
        "colab": {
          "base_uri": "https://localhost:8080/",
          "height": 1000
        }
      },
      "source": [
        "alpha_list = [0.0001,0.001,0.1,1]\n",
        "LR=[100,500,1000,2000]\n",
        "#print('alpha is. {}'.format(a))\n",
        "#low alpha less accuracy of 88 and less time 1.35e-05 and higher alpha more time and similar accuracy \n",
        "for a in alpha_list:\n",
        "  data_raw=data_bank\n",
        "  rnd_rows=rnd_rows_bank\n",
        "  k = 10\n",
        "  order = 1\n",
        "  normalization = True\n",
        "  adaptive_iteration = False\n",
        "  Ridge_reg = True\n",
        "  Plotting = True\n",
        "  # ------------------------ Adaptive iteration method\n",
        "  beta = 1e0\n",
        "  epsilon = 0.0001\n",
        "  # ------------------------ fixed number of iteration method\n",
        "  alpha = a\n",
        "  num_it = 8000\n",
        "  # ------------------------ Ridge Regression L2-Penalty\n",
        "  l2_pen = 0.5\n",
        "  # ==============================================================\n",
        "  # X = feature values, all the columns except the last column\n",
        "  X_raw = data_raw.iloc[:, 0:-1]\n",
        "  # y = target values, last column of the data set\n",
        "  y_raw = data_raw.iloc[:, -1]\n",
        "  # making sure all the data is float\n",
        "  y_raw = y_raw.astype(float)\n",
        "  # Adding the dummy features to the data set\n",
        "  X_raw = np.c_[X_raw, np.ones((X_raw.shape[0], 1))]\n",
        "  # Converting y to a numpy array\n",
        "  y_raw = np.c_[y_raw]\n",
        "  print('Dimension of X is', X_raw.shape, '; subsequently the dimension of y is', y_raw.shape)\n",
        "\n",
        "  if normalization:\n",
        "    X_raw = normalize_data(X_raw)\n",
        "    X_raw = set_order(X_raw, order)\n",
        "    X_, y_ = data_rnd_distribute(X_raw, y_raw, rnd_rows)\n",
        "\n",
        "    start = timeit.default_timer()  # start to calculate run time\n",
        "    num_iter = cross_validate(adaptive_iteration, Ridge_reg, l2_pen, epsilon, beta, alpha, num_it, k, X_, y_)\n",
        "\n",
        "    # -------------------------------------------------------- End\n",
        "    stop = timeit.default_timer()\n",
        "    print('Time: ', stop - start)\n",
        "    print('# of Iterations:', num_iter)\n",
        "    print(\"this is alpha {}\".format(a))\n",
        "\n",
        "\n"
      ],
      "execution_count": null,
      "outputs": [
        {
          "output_type": "stream",
          "text": [
            "Dimension of X is (453, 65) ; subsequently the dimension of y is (453, 1)\n",
            "The 1 th fold error and accuracy are 20.51282051282051 and 79.48717948717949 respectively\n"
          ],
          "name": "stdout"
        },
        {
          "output_type": "display_data",
          "data": {
            "image/png": "[encoded data removed]",
            "text/plain": [
              "<Figure size 432x288 with 1 Axes>"
            ]
          },
          "metadata": {
            "tags": [],
            "needs_background": "light"
          }
        },
        {
          "output_type": "stream",
          "text": [
            "The 2 th fold error and accuracy are 20.51282051282051 and 79.48717948717949 respectively\n",
            "The 3 th fold error and accuracy are 23.076923076923077 and 76.92307692307693 respectively\n",
            "The 4 th fold error and accuracy are 17.94871794871795 and 82.05128205128204 respectively\n",
            "The 5 th fold error and accuracy are 17.94871794871795 and 82.05128205128204 respectively\n",
            "The 6 th fold error and accuracy are 23.076923076923077 and 76.92307692307693 respectively\n",
            "The 7 th fold error and accuracy are 30.76923076923077 and 69.23076923076923 respectively\n",
            "The 8 th fold error and accuracy are 23.076923076923077 and 76.92307692307693 respectively\n",
            "The 9 th fold error and accuracy are 12.82051282051282 and 87.17948717948718 respectively\n",
            "The 10 th fold error and accuracy are 15.384615384615385 and 84.61538461538461 respectively\n",
            "The total error and accuracy of this model are 20.51282051282051 and 79.48717948717949 respectively\n",
            "Time:  10.243668800001615\n",
            "# of Iterations: 8000\n",
            "this is alpha 0.0001\n",
            "Dimension of X is (453, 65) ; subsequently the dimension of y is (453, 1)\n",
            "The 1 th fold error and accuracy are 20.51282051282051 and 79.48717948717949 respectively\n"
          ],
          "name": "stdout"
        },
        {
          "output_type": "display_data",
          "data": {
            "image/png": "[encoded data removed]",
            "text/plain": [
              "<Figure size 432x288 with 1 Axes>"
            ]
          },
          "metadata": {
            "tags": [],
            "needs_background": "light"
          }
        },
        {
          "output_type": "stream",
          "text": [
            "The 2 th fold error and accuracy are 20.51282051282051 and 79.48717948717949 respectively\n",
            "The 3 th fold error and accuracy are 20.51282051282051 and 79.48717948717949 respectively\n",
            "The 4 th fold error and accuracy are 15.384615384615385 and 84.61538461538461 respectively\n",
            "The 5 th fold error and accuracy are 17.94871794871795 and 82.05128205128204 respectively\n",
            "The 6 th fold error and accuracy are 23.076923076923077 and 76.92307692307693 respectively\n",
            "The 7 th fold error and accuracy are 30.76923076923077 and 69.23076923076923 respectively\n",
            "The 8 th fold error and accuracy are 23.076923076923077 and 76.92307692307693 respectively\n",
            "The 9 th fold error and accuracy are 12.82051282051282 and 87.17948717948718 respectively\n",
            "The 10 th fold error and accuracy are 15.384615384615385 and 84.61538461538461 respectively\n",
            "The total error and accuracy of this model are 19.999999999999996 and 80.0 respectively\n",
            "Time:  10.161392334000993\n",
            "# of Iterations: 8000\n",
            "this is alpha 0.001\n",
            "Dimension of X is (453, 65) ; subsequently the dimension of y is (453, 1)\n"
          ],
          "name": "stdout"
        },
        {
          "output_type": "stream",
          "text": [
            "/usr/local/lib/python3.6/dist-packages/ipykernel_launcher.py:62: RuntimeWarning: overflow encountered in exp\n"
          ],
          "name": "stderr"
        },
        {
          "output_type": "stream",
          "text": [
            "The 1 th fold error and accuracy are 28.205128205128204 and 71.7948717948718 respectively\n"
          ],
          "name": "stdout"
        },
        {
          "output_type": "display_data",
          "data": {
            "image/png": "[encoded data removed]",
            "text/plain": [
              "<Figure size 432x288 with 1 Axes>"
            ]
          },
          "metadata": {
            "tags": [],
            "needs_background": "light"
          }
        },
        {
          "output_type": "stream",
          "text": [
            "The 2 th fold error and accuracy are 30.76923076923077 and 69.23076923076923 respectively\n",
            "The 3 th fold error and accuracy are 35.8974358974359 and 64.1025641025641 respectively\n",
            "The 4 th fold error and accuracy are 38.46153846153847 and 61.53846153846154 respectively\n",
            "The 5 th fold error and accuracy are 53.84615384615385 and 46.15384615384615 respectively\n",
            "The 6 th fold error and accuracy are 33.33333333333333 and 66.66666666666666 respectively\n",
            "The 7 th fold error and accuracy are 41.02564102564102 and 58.97435897435898 respectively\n",
            "The 8 th fold error and accuracy are 38.46153846153847 and 61.53846153846154 respectively\n",
            "The 9 th fold error and accuracy are 30.76923076923077 and 69.23076923076923 respectively\n",
            "The 10 th fold error and accuracy are 25.64102564102564 and 74.35897435897436 respectively\n",
            "The total error and accuracy of this model are 35.64102564102564 and 64.35897435897436 respectively\n",
            "Time:  10.655103774002782\n",
            "# of Iterations: 8000\n",
            "this is alpha 0.1\n",
            "Dimension of X is (453, 65) ; subsequently the dimension of y is (453, 1)\n",
            "The 1 th fold error and accuracy are 69.23076923076923 and 30.76923076923077 respectively\n"
          ],
          "name": "stdout"
        },
        {
          "output_type": "display_data",
          "data": {
            "image/png": "[encoded data removed]",
            "text/plain": [
              "<Figure size 432x288 with 1 Axes>"
            ]
          },
          "metadata": {
            "tags": [],
            "needs_background": "light"
          }
        },
        {
          "output_type": "stream",
          "text": [
            "The 2 th fold error and accuracy are 61.53846153846154 and 38.46153846153847 respectively\n",
            "The 3 th fold error and accuracy are 53.84615384615385 and 46.15384615384615 respectively\n",
            "The 4 th fold error and accuracy are 74.35897435897436 and 25.64102564102564 respectively\n",
            "The 5 th fold error and accuracy are 66.66666666666666 and 33.33333333333333 respectively\n",
            "The 6 th fold error and accuracy are 71.7948717948718 and 28.205128205128204 respectively\n",
            "The 7 th fold error and accuracy are 61.53846153846154 and 38.46153846153847 respectively\n",
            "The 8 th fold error and accuracy are 58.97435897435898 and 41.02564102564102 respectively\n",
            "The 9 th fold error and accuracy are 69.23076923076923 and 30.76923076923077 respectively\n",
            "The 10 th fold error and accuracy are 71.7948717948718 and 28.205128205128204 respectively\n",
            "The total error and accuracy of this model are 65.89743589743591 and 34.10256410256411 respectively\n",
            "Time:  10.878689842000313\n",
            "# of Iterations: 8000\n",
            "this is alpha 1\n"
          ],
          "name": "stdout"
        }
      ]
    },
    {
      "cell_type": "code",
      "metadata": {
        "id": "BluuXnfWqarQ",
        "outputId": "704fc432-fd08-4857-8ff2-59d5a20bee0c",
        "colab": {
          "base_uri": "https://localhost:8080/",
          "height": 534
        }
      },
      "source": [
        "#adaptive learning \n",
        "data_raw = xx1\n",
        "rnd_rows = rnd_rows_bank\n",
        "# ================================================================\n",
        "def final_model(data,rnd):\n",
        "  # X = feature values, all the columns except the last column\n",
        "  X_raw = data.iloc[:, 0:-1]\n",
        "  # y = target values, last column of the data set\n",
        "  y_raw = data.iloc[:, -1]\n",
        "  # making sure all the data is float\n",
        "  y_raw = y_raw.astype(float)\n",
        "  # Adding the dummy features to the data set\n",
        "  X_raw = np.c_[X_raw, np.ones((X_raw.shape[0], 1))]\n",
        "  # Converting y to a numpy array\n",
        "  y_raw = np.c_[y_raw]\n",
        "  print('Dimension of X is', X_raw.shape, '; subsequently the dimension of y is', y_raw.shape)\n",
        "  # ================================================================ Set Variabes\n",
        "  k = 10\n",
        "  order = 1\n",
        "  normalization = True\n",
        "  adaptive_iteration = True\n",
        "  Ridge_reg = True\n",
        "  Plotting = True\n",
        "  # ------------------------ Adaptive iteration method\n",
        "  beta = 1e0\n",
        "  epsilon = 0.0001\n",
        "  # ------------------------ fixed number of iteration method\n",
        "  alpha = 0.001\n",
        "  num_it = 8000\n",
        "  # ------------------------ Ridge Regression L2-Penalty\n",
        "  l2_pen = 0.5\n",
        "\n",
        "  # ==============================================================\n",
        "\n",
        "  if normalization:\n",
        "      X_raw = normalize_data(X_raw)\n",
        "  X_raw = set_order(X_raw, order)\n",
        "  X_, y_ = data_rnd_distribute(X_raw, y_raw, rnd)\n",
        "  start = timeit.default_timer()  # start to calculate run time\n",
        "  num_iter = cross_validate(adaptive_iteration, Ridge_reg, l2_pen, epsilon, beta, alpha, num_it, k, X_, y_)\n",
        "\n",
        "  # -------------------------------------------------------- End\n",
        "  stop = timeit.default_timer()\n",
        "  print('Time: ', stop - start)\n",
        "  print('# of Iterations:', num_iter)\n",
        "\n",
        "final_model(data_raw,rnd_rows)"
      ],
      "execution_count": null,
      "outputs": [
        {
          "output_type": "stream",
          "text": [
            "Dimension of X is (453, 19) ; subsequently the dimension of y is (453, 1)\n",
            "The 1 th fold error and accuracy are 20.51282051282051 and 79.48717948717949 respectively\n"
          ],
          "name": "stdout"
        },
        {
          "output_type": "stream",
          "text": [
            "/usr/local/lib/python3.6/dist-packages/ipykernel_launcher.py:62: RuntimeWarning: overflow encountered in exp\n"
          ],
          "name": "stderr"
        },
        {
          "output_type": "display_data",
          "data": {
            "image/png": "[encoded data removed]",
            "text/plain": [
              "<Figure size 432x288 with 1 Axes>"
            ]
          },
          "metadata": {
            "tags": [],
            "needs_background": "light"
          }
        },
        {
          "output_type": "stream",
          "text": [
            "The 2 th fold error and accuracy are 25.64102564102564 and 74.35897435897436 respectively\n",
            "The 3 th fold error and accuracy are 28.205128205128204 and 71.7948717948718 respectively\n",
            "The 4 th fold error and accuracy are 20.51282051282051 and 79.48717948717949 respectively\n",
            "The 5 th fold error and accuracy are 17.94871794871795 and 82.05128205128204 respectively\n",
            "The 6 th fold error and accuracy are 28.205128205128204 and 71.7948717948718 respectively\n",
            "The 7 th fold error and accuracy are 33.33333333333333 and 66.66666666666666 respectively\n",
            "The 8 th fold error and accuracy are 28.205128205128204 and 71.7948717948718 respectively\n",
            "The 9 th fold error and accuracy are 15.384615384615385 and 84.61538461538461 respectively\n",
            "The 10 th fold error and accuracy are 20.51282051282051 and 79.48717948717949 respectively\n",
            "The total error and accuracy of this model are 23.846153846153847 and 76.15384615384616 respectively\n",
            "Time:  0.6707443579998653\n",
            "# of Iterations: 923\n"
          ],
          "name": "stdout"
        }
      ]
    }
  ]
}